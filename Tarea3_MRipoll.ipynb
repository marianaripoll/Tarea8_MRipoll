{
 "cells": [
  {
   "cell_type": "markdown",
   "metadata": {},
   "source": [
    "<img style=\"float: left; margin: 30px 15px 15px 15px;\" src=\"https://encrypted-tbn0.gstatic.com/images?q=tbn:ANd9GcTFzQj91sOlkeDFkg5HDbjtR4QJYmLXkfMNig&usqp=CAU\" width=\"400\" height=\"500\" /> \n",
    "    \n",
    "    \n",
    "### <font color='navy'> Simulación matemática. \n",
    "\n",
    "**Nombres:** Mariana Ripoll Batiz \n",
    "\n",
    "**Fecha:** 10 de septiembre del 2023.\n",
    "\n",
    "**Expediente** : 747684.\n",
    "    \n",
    "**Profesor:** Oscar David Jaramillo Zuluaga.\n",
    "    \n",
    "**Link Github**: https://github.com/marianaripoll/Tarea8_MRipoll.git\n",
    "\n",
    "# Tarea 3: Problema 8"
   ]
  },
  {
   "cell_type": "markdown",
   "metadata": {},
   "source": [
    "## 8. Tarea \n",
    "\n",
    "### 8.1. Otro problema de transporte\n",
    "\n",
    "La empresa Carbones de oriente debe ingresar a la empresa un requerimiento mínimo diario de carbón de $5000$ kg de carbón de alto volátil, $4000$ kg de medio volátil y $3000$ kg de bajo volátil para su debido proceso y trasformación. \n",
    "\n",
    "La entrada de estos se da en la siguiente tabla (los valores corresponden a un viaje en kg): \n",
    "\n",
    "-|Alto volátil|Medio volátil|Bajo volátil\n",
    ":----|----|----|----\n",
    "Mina sur|80|70|65\n",
    "Mina norte|60|50|40\n",
    "Mina central|40|30|20\n",
    "\n",
    "El costo del trasporte de un viaje de cada mina es de 2500 dólares, 1500 dólares y 900 dólares, respectivamente. ¿Cuántos viajes de cada mina se deben recibir a diario para suplir los requerimientos mínimos y generar el menor costo de transporte? \n",
    "\n",
    "Para simplificar la notación use las siguientes variables: \n",
    "\n",
    "+ $x_1:$ Cantidad de viajes de la mina sur  \n",
    "+ $x_2:$ Cantidad de viajes de la mina norte  \n",
    "+ $x_3:$ Cantidad de viajes de la mina central  \n",
    "\n",
    "\n",
    "El objetivo consiste consiste en plantear el problema de programación lineal que permita satisfacer los requerimientos de la empresa Carbones de oriente y resolverlo con `linprog`."
   ]
  },
  {
   "cell_type": "markdown",
   "metadata": {},
   "source": [
    "### Ejercicio 1: (enunciado) Transcribirlo"
   ]
  },
  {
   "cell_type": "markdown",
   "metadata": {},
   "source": [
    "Coste para minimizar:\n",
    "\n",
    "$2500x_1 + 1500x_2 + 900x_3$\n",
    "\n",
    "Restricciones: \n",
    "\n",
    "a)  $80x_1 + 60x_2 + 40x_3 \\geq 5000$\n",
    "\n",
    "b)  $70x_1 + 50x_2 + 30x_3 \\geq 4000$\n",
    "\n",
    "c)  $65x_1 + 40x_2 + 20x_3 \\geq 3000$\n",
    "\n",
    "El problema es expresado:\n",
    "\n",
    "$\n",
    "\\begin{align}\n",
    "min_{x_1,x_2,x_3} &   2500x_1 + 1500x_2 + 900x_3 \\\\\n",
    "                  & -80x_1 - 60x_2 - 40x_3 \\leq -5000 \\\\\n",
    "                  & -70x_1 - 50x_2 - 30x_3 \\leq -4000 \\\\\n",
    "                  & -65x_1 - 40x_2 - 20x_3 \\leq -3000 \\\\\n",
    "\\end{align}\n",
    "$"
   ]
  },
  {
   "cell_type": "code",
   "execution_count": 8,
   "metadata": {},
   "outputs": [],
   "source": [
    "import numpy as np\n",
    "import scipy.optimize as opt"
   ]
  },
  {
   "cell_type": "code",
   "execution_count": 9,
   "metadata": {},
   "outputs": [
    {
     "data": {
      "text/plain": [
       "(array([2500, 1500,  900]),\n",
       " array([[-80, -60, -40],\n",
       "        [-70, -50, -30],\n",
       "        [-65, -40, -20]]),\n",
       " array([-5000, -4000, -3000]))"
      ]
     },
     "execution_count": 9,
     "metadata": {},
     "output_type": "execute_result"
    }
   ],
   "source": [
    "#Matrices\n",
    "c = np.array([2500,1500,900])\n",
    "A_ub = np.array([\n",
    "    [-80,-60,-40],\n",
    "    [-70,-50,-30],\n",
    "    [-65,-40,-20]])\n",
    "b_ub = np.array([-5000,-4000,-3000])\n",
    "c, A_ub, b_ub"
   ]
  },
  {
   "cell_type": "code",
   "execution_count": 10,
   "metadata": {},
   "outputs": [
    {
     "data": {
      "text/plain": [
       "        message: Optimization terminated successfully. (HiGHS Status 7: Optimal)\n",
       "        success: True\n",
       "         status: 0\n",
       "            fun: 120000.0\n",
       "              x: [ 0.000e+00  5.000e+01  5.000e+01]\n",
       "            nit: 2\n",
       "          lower:  residual: [ 0.000e+00  5.000e+01  5.000e+01]\n",
       "                 marginals: [ 3.250e+02  0.000e+00  0.000e+00]\n",
       "          upper:  residual: [       inf        inf        inf]\n",
       "                 marginals: [ 0.000e+00  0.000e+00  0.000e+00]\n",
       "          eqlin:  residual: []\n",
       "                 marginals: []\n",
       "        ineqlin:  residual: [ 0.000e+00  0.000e+00  0.000e+00]\n",
       "                 marginals: [-1.500e+01 -0.000e+00 -1.500e+01]\n",
       " mip_node_count: 0\n",
       " mip_dual_bound: 0.0\n",
       "        mip_gap: 0.0"
      ]
     },
     "execution_count": 10,
     "metadata": {},
     "output_type": "execute_result"
    }
   ],
   "source": [
    "#Linprog\n",
    "sol_farma = opt.linprog(c, A_ub, b_ub)\n",
    "sol_farma"
   ]
  },
  {
   "cell_type": "code",
   "execution_count": 7,
   "metadata": {},
   "outputs": [
    {
     "data": {
      "text/plain": [
       "array([ 0., 50., 50.])"
      ]
     },
     "execution_count": 7,
     "metadata": {},
     "output_type": "execute_result"
    }
   ],
   "source": [
    "#Vector \n",
    "x = sol_farma.x\n",
    "x"
   ]
  },
  {
   "cell_type": "markdown",
   "metadata": {},
   "source": [
    "En conclusión:  \n",
    "0 viajes desde la mina sur.\n",
    "50 viajes desde la mina norte. \n",
    "0 viajes  desde la mina central. \n",
    "De está manera se cumplen los requisitos mínimos de carbón teniendo el menor costo posible que es igual a 120,000. \n",
    "\n",
    "\n"
   ]
  },
  {
   "cell_type": "markdown",
   "metadata": {},
   "source": [
    "### 8.2. \n",
    "Una empresa de muebles rústicos fabrica entre muchos otros productos cinco tipos de sillas A, B, C, D Y E, las cuales se venden a precio de $1100$, $1300$, $1200$, $980$ y $1010$ pesos cada una y respectivamente. \n",
    "\n",
    "Las sillas pasan por cinco procesos: corte, ensamblado, lijado, pintado y sellado, para lo cual se dispone máximo de $17$, $11$, $15$, $12$ y $14$ horas respectivamente a la semana para dedicar a estas operaciones a estos productos.\n",
    "\n",
    "Los requerimientos, en horas, para cada una de las sillas está dado en la siguiente tabla:\n",
    "\n",
    "-|Corte|Ensamblado|Lijado|Pintado|Sellado\n",
    ":----|----|----|----|----|----\n",
    "Silla A|3|1|3|1|1\n",
    "Silla B|2|3|2|2|3\n",
    "Silla C|5|2|2|3|1\n",
    "Silla D|2|4|1|1|2\n",
    "Silla E|1|0|2|2|3\n",
    "\n",
    "¿Cuántas sillas de cada tipo se deben fabricar para suplir los requerimientos de disponibiladas semanal y generar la mayor utilidad en ventas? \n",
    "\n",
    "Para simplificar la notación use las siguientes variables: \n",
    "\n",
    "+ $x_A:$ Cantidad de sillas tipo A \n",
    "+ $x_B:$ Cantidad de sillas tipo B \n",
    "+ $x_C:$ Cantidad de sillas tipo C \n",
    "+ $x_D:$ Cantidad de sillas tipo D  \n",
    "+ $x_E:$ Cantidad de sillas tipo E\n",
    "\n",
    "\n",
    "El objetivo consiste consiste en plantear el problemade programación lineal que permita satisfacer los requerimientos de la empresa empresa de muebles y resolverlo con `linprog`."
   ]
  },
  {
   "cell_type": "markdown",
   "metadata": {},
   "source": [
    "Coste para maximizar:\n",
    "\n",
    "$ 1100x_A + 1300x_B + 1200x_C + 980x_D + 1010x_E $$\n",
    "\n",
    "Restricciones:\n",
    "\n",
    "$\n",
    "3x_A + 2x_B + 5x_C + 2x_D + 1x_E \\leq 17 \\\\\n",
    "1x_A + 3x_B + 2x_C + 4x_D \\leq 11 \\\\\n",
    "3x_A + 2x_B + 2x_C + 1x_D + 2x_E \\leq 15 \\\\\n",
    "1x_A + 2x_B + 3x_C + 1x_D + 2x_E \\leq 12 \\\\\n",
    "1x_A + 3x_B + 1x_C + 2x_D + 3x_E \\leq 14 \\\\\n",
    "$\n",
    "\n",
    "\n",
    "El problema es expresado:\n",
    "\n",
    "$\n",
    "\\begin{align}\n",
    "min_{x_A,x_B,..} &-1100x_A - 1300x_B - 1200x_C - 980x_D - 1010x_E \\\\  \n",
    "\\\\\n",
    "                  & 3x_A + 2x_B + 5x_C + 2x_D + 1x_E \\leq 17 \\\\\n",
    "                  & 1x_A + 3x_B + 2x_C + 4x_D \\leq 11 \\\\\n",
    "                  & 3x_A + 2x_B + 2x_C + 1x_D + 2x_E \\leq 15 \\\\\n",
    "                  & 1x_A + 2x_B + 3x_C + 1x_D + 2x_E \\leq 12 \\\\\n",
    "                  & 1x_A + 3x_B + 1x_C + 2x_D + 3x_E \\leq 14 \\\\\n",
    "\\end{align}\n",
    "$\n",
    "\n"
   ]
  },
  {
   "cell_type": "code",
   "execution_count": 16,
   "metadata": {},
   "outputs": [],
   "source": [
    "import scipy.optimize as opt\n",
    "import numpy as np"
   ]
  },
  {
   "cell_type": "code",
   "execution_count": 13,
   "metadata": {},
   "outputs": [
    {
     "data": {
      "text/plain": [
       "(array([-1100, -1300, -1200,  -980, -1010]),\n",
       " array([[3, 2, 5, 2, 1],\n",
       "        [1, 3, 2, 4, 0],\n",
       "        [3, 2, 2, 1, 2],\n",
       "        [1, 2, 3, 1, 2],\n",
       "        [1, 3, 1, 2, 3]]),\n",
       " array([17, 11, 15, 12, 14]))"
      ]
     },
     "execution_count": 13,
     "metadata": {},
     "output_type": "execute_result"
    }
   ],
   "source": [
    "c = np.array([-1100, -1300, -1200, -980, -1010])\n",
    "A_ub = np.array([\n",
    "    [3, 2, 5, 2, 1],\n",
    "    [1, 3, 2, 4, 0],\n",
    "    [3, 2, 2, 1, 2],\n",
    "    [1, 2, 3, 1, 2],\n",
    "    [1, 3, 1, 2, 3]])\n",
    "b_ub = np.array([17,11,15,12,14])\n",
    "c, A_ub, b_ub"
   ]
  },
  {
   "cell_type": "code",
   "execution_count": 14,
   "metadata": {},
   "outputs": [
    {
     "data": {
      "text/plain": [
       "        message: Optimization terminated successfully. (HiGHS Status 7: Optimal)\n",
       "        success: True\n",
       "         status: 0\n",
       "            fun: -7699.999999999999\n",
       "              x: [ 2.000e+00  1.000e+00  1.000e+00  1.000e+00  2.000e+00]\n",
       "            nit: 5\n",
       "          lower:  residual: [ 2.000e+00  1.000e+00  1.000e+00  1.000e+00\n",
       "                              2.000e+00]\n",
       "                 marginals: [ 0.000e+00  0.000e+00  0.000e+00  0.000e+00\n",
       "                              0.000e+00]\n",
       "          upper:  residual: [       inf        inf        inf        inf\n",
       "                                    inf]\n",
       "                 marginals: [ 0.000e+00  0.000e+00  0.000e+00  0.000e+00\n",
       "                              0.000e+00]\n",
       "          eqlin:  residual: []\n",
       "                 marginals: []\n",
       "        ineqlin:  residual: [ 0.000e+00  0.000e+00  0.000e+00  0.000e+00\n",
       "                              0.000e+00]\n",
       "                 marginals: [-7.806e+01 -7.065e+01 -2.023e+02 -3.774e+01\n",
       "                             -1.506e+02]\n",
       " mip_node_count: 0\n",
       " mip_dual_bound: 0.0\n",
       "        mip_gap: 0.0"
      ]
     },
     "execution_count": 14,
     "metadata": {},
     "output_type": "execute_result"
    }
   ],
   "source": [
    "sol_farma = opt.linprog(c,A_ub,b_ub)\n",
    "sol_farma"
   ]
  },
  {
   "cell_type": "code",
   "execution_count": 15,
   "metadata": {},
   "outputs": [
    {
     "data": {
      "text/plain": [
       "array([2., 1., 1., 1., 2.])"
      ]
     },
     "execution_count": 15,
     "metadata": {},
     "output_type": "execute_result"
    }
   ],
   "source": [
    "#Vector\n",
    "x = sol_farma.x\n",
    "x"
   ]
  },
  {
   "cell_type": "markdown",
   "metadata": {},
   "source": [
    "En conclusión, para lograr generar ingresos de 7700, se debe de fabricar; 2 sillas A, 1 silla B, 1 silla C, 1 silla D, 2 sillas E.  "
   ]
  },
  {
   "cell_type": "markdown",
   "metadata": {},
   "source": [
    "### Respuesta planteada en el ejercicio usando (markdown)\n",
    " La respuesta es ........."
   ]
  }
 ],
 "metadata": {
  "kernelspec": {
   "display_name": "Python 3 (ipykernel)",
   "language": "python",
   "name": "python3"
  },
  "language_info": {
   "codemirror_mode": {
    "name": "ipython",
    "version": 3
   },
   "file_extension": ".py",
   "mimetype": "text/x-python",
   "name": "python",
   "nbconvert_exporter": "python",
   "pygments_lexer": "ipython3",
   "version": "3.11.4"
  }
 },
 "nbformat": 4,
 "nbformat_minor": 2
}
